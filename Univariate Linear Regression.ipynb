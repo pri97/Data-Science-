{
 "cells": [
  {
   "cell_type": "markdown",
   "metadata": {},
   "source": []
  },
  {
   "cell_type": "markdown",
   "metadata": {},
   "source": [
    "# Lab 6: Univariate Linear Regression\n",
    "\n",
    "### Due Date: Tuesday April 4, 2019 on or before 11:59 PM\n",
    "\n",
    "In this lab we will work through the process of:\n",
    "1. implementing a univariate linear regression model\n",
    "2. defining, implementing and testing multiple loss functions \n",
    "3. minimizing loss functions using gradient descent\n",
    "4. comparing with python library functions\n",
    "5. Using the model to predict on new data\n"
   ]
  },
  {
   "cell_type": "markdown",
   "metadata": {},
   "source": [
    "## Initialize"
   ]
  },
  {
   "cell_type": "code",
   "execution_count": 43,
   "metadata": {},
   "outputs": [],
   "source": [
    "import pandas as pd\n",
    "import numpy as np\n",
    "import seaborn as sns\n",
    "import matplotlib.pyplot as plt\n",
    "np.random.seed(42)\n",
    "plt.style.use('fivethirtyeight')\n",
    "sns.set()\n",
    "sns.set_context(\"talk\")\n",
    "%matplotlib inline"
   ]
  },
  {
   "cell_type": "markdown",
   "metadata": {},
   "source": [
    "# Univariate Linear Regression\n",
    "In the first task of the lab, we will model linear regression based on a data set that contains grades from CS 205 course in fall 2018. The dataset (with no ID's) contain midterm and final exam grades of Rutgers students (including other assignment grades). \n",
    "\n",
    "# Task 1 - Initialization\n",
    "Read the file into a dataframe and keep only the midtermRaw and FinaRaw columns. We will be doing univariate regression on x=midterm, y=finalExam\n",
    "The goal is to find a model that will allow us to predict the final exam score given the midterm score."
   ]
  },
  {
   "cell_type": "markdown",
   "metadata": {},
   "source": [
    "### Activity 1.1  Read Data"
   ]
  },
  {
   "cell_type": "code",
   "execution_count": 44,
   "metadata": {},
   "outputs": [
    {
     "data": {
      "text/html": [
       "<div>\n",
       "<style scoped>\n",
       "    .dataframe tbody tr th:only-of-type {\n",
       "        vertical-align: middle;\n",
       "    }\n",
       "\n",
       "    .dataframe tbody tr th {\n",
       "        vertical-align: top;\n",
       "    }\n",
       "\n",
       "    .dataframe thead th {\n",
       "        text-align: right;\n",
       "    }\n",
       "</style>\n",
       "<table border=\"1\" class=\"dataframe\">\n",
       "  <thead>\n",
       "    <tr style=\"text-align: right;\">\n",
       "      <th></th>\n",
       "      <th>midtermRaw</th>\n",
       "      <th>finalRaw</th>\n",
       "    </tr>\n",
       "  </thead>\n",
       "  <tbody>\n",
       "    <tr>\n",
       "      <th>3</th>\n",
       "      <td>45.5</td>\n",
       "      <td>62.0</td>\n",
       "    </tr>\n",
       "    <tr>\n",
       "      <th>4</th>\n",
       "      <td>58.0</td>\n",
       "      <td>60.5</td>\n",
       "    </tr>\n",
       "    <tr>\n",
       "      <th>5</th>\n",
       "      <td>68.0</td>\n",
       "      <td>32.0</td>\n",
       "    </tr>\n",
       "    <tr>\n",
       "      <th>6</th>\n",
       "      <td>64.5</td>\n",
       "      <td>50.5</td>\n",
       "    </tr>\n",
       "    <tr>\n",
       "      <th>7</th>\n",
       "      <td>74.0</td>\n",
       "      <td>51.0</td>\n",
       "    </tr>\n",
       "  </tbody>\n",
       "</table>\n",
       "</div>"
      ],
      "text/plain": [
       "   midtermRaw  finalRaw\n",
       "3        45.5      62.0\n",
       "4        58.0      60.5\n",
       "5        68.0      32.0\n",
       "6        64.5      50.5\n",
       "7        74.0      51.0"
      ]
     },
     "execution_count": 44,
     "metadata": {},
     "output_type": "execute_result"
    }
   ],
   "source": [
    "import pandas as pd\n",
    "df = pd.read_csv(\"data/CS205_grades_12_19_18_Final.csv\")\n",
    "df_cleaned = df[['midtermRaw','finalRaw']]\n",
    "# drop all undefined rows \n",
    "df_cleaned = df_cleaned.dropna() \n",
    "df_cleaned.head()"
   ]
  },
  {
   "cell_type": "markdown",
   "metadata": {},
   "source": [
    "### Activity 1.2 Normalize Data\n",
    "In this task, you need to normalize data using MinMaxScaler from sklearn.preprocessing. Normalize midterm and final scores to be between 0 and 1. X_scaled_values and Y_scaled_values are the normalized midterm and final exam scores."
   ]
  },
  {
   "cell_type": "code",
   "execution_count": 45,
   "metadata": {},
   "outputs": [
    {
     "name": "stdout",
     "output_type": "stream",
     "text": [
      "[[0.37857143]\n",
      " [0.55714286]\n",
      " [0.7       ]\n",
      " [0.65      ]\n",
      " [0.78571429]\n",
      " [0.47857143]\n",
      " [0.32142857]\n",
      " [0.80714286]\n",
      " [0.58571429]\n",
      " [0.06428571]\n",
      " [0.53571429]\n",
      " [0.46428571]\n",
      " [0.42142857]\n",
      " [0.83571429]\n",
      " [0.35      ]\n",
      " [0.        ]\n",
      " [0.65      ]\n",
      " [0.48571429]\n",
      " [0.55      ]\n",
      " [0.49285714]\n",
      " [1.        ]\n",
      " [0.6       ]\n",
      " [0.31428571]\n",
      " [0.61428571]\n",
      " [0.55714286]\n",
      " [0.48571429]\n",
      " [0.04285714]\n",
      " [0.5       ]\n",
      " [0.23571429]\n",
      " [0.73571429]\n",
      " [0.59285714]\n",
      " [0.48571429]\n",
      " [0.15714286]\n",
      " [0.83571429]\n",
      " [0.14285714]\n",
      " [0.35      ]\n",
      " [0.41428571]\n",
      " [0.62142857]\n",
      " [1.        ]\n",
      " [0.70714286]\n",
      " [0.56428571]\n",
      " [0.9       ]\n",
      " [0.73571429]\n",
      " [0.24285714]\n",
      " [0.41428571]\n",
      " [0.65      ]\n",
      " [0.52142857]\n",
      " [0.65714286]\n",
      " [0.38571429]\n",
      " [0.4       ]\n",
      " [0.55      ]\n",
      " [0.52857143]\n",
      " [0.46428571]\n",
      " [0.81428571]\n",
      " [0.6       ]\n",
      " [0.54285714]\n",
      " [0.1       ]\n",
      " [0.50714286]\n",
      " [0.2       ]\n",
      " [0.63571429]\n",
      " [0.25714286]\n",
      " [0.94285714]\n",
      " [0.36428571]\n",
      " [0.53571429]\n",
      " [0.8       ]\n",
      " [0.34285714]\n",
      " [0.65      ]\n",
      " [0.67142857]\n",
      " [0.60714286]\n",
      " [0.31428571]\n",
      " [0.72142857]\n",
      " [0.55714286]\n",
      " [0.78571429]\n",
      " [0.31428571]\n",
      " [0.95714286]\n",
      " [0.17857143]\n",
      " [0.68571429]\n",
      " [0.44285714]\n",
      " [0.69285714]\n",
      " [0.17857143]\n",
      " [0.47142857]\n",
      " [0.52857143]\n",
      " [0.27142857]\n",
      " [0.45      ]\n",
      " [0.52857143]\n",
      " [0.48571429]\n",
      " [0.74285714]\n",
      " [0.25714286]\n",
      " [0.85714286]\n",
      " [0.29285714]\n",
      " [0.58571429]\n",
      " [0.70714286]\n",
      " [0.65714286]\n",
      " [0.27857143]\n",
      " [0.78571429]\n",
      " [0.25      ]\n",
      " [0.3       ]\n",
      " [0.58571429]\n",
      " [0.97142857]\n",
      " [0.02857143]\n",
      " [0.95      ]\n",
      " [0.44285714]\n",
      " [0.34285714]\n",
      " [0.48571429]\n",
      " [0.40714286]\n",
      " [0.7       ]\n",
      " [0.19285714]\n",
      " [0.37857143]\n",
      " [0.82142857]\n",
      " [0.87142857]\n",
      " [0.47857143]\n",
      " [0.04285714]\n",
      " [0.93571429]\n",
      " [0.47857143]\n",
      " [0.74285714]\n",
      " [0.63571429]\n",
      " [0.35714286]\n",
      " [0.82857143]\n",
      " [0.51428571]\n",
      " [0.22142857]\n",
      " [0.79285714]\n",
      " [0.92142857]\n",
      " [0.6       ]] [[0.79104478]\n",
      " [0.76865672]\n",
      " [0.34328358]\n",
      " [0.61940299]\n",
      " [0.62686567]\n",
      " [0.39552239]\n",
      " [0.43283582]\n",
      " [0.82835821]\n",
      " [0.6641791 ]\n",
      " [0.26119403]\n",
      " [0.74626866]\n",
      " [0.60447761]\n",
      " [0.79850746]\n",
      " [0.73134328]\n",
      " [0.36567164]\n",
      " [0.42537313]\n",
      " [0.63432836]\n",
      " [0.70895522]\n",
      " [0.81343284]\n",
      " [0.55223881]\n",
      " [0.76119403]\n",
      " [0.47014925]\n",
      " [0.53731343]\n",
      " [0.60447761]\n",
      " [0.20895522]\n",
      " [0.44776119]\n",
      " [0.17910448]\n",
      " [0.31343284]\n",
      " [0.35074627]\n",
      " [0.98507463]\n",
      " [0.5       ]\n",
      " [0.43283582]\n",
      " [0.5       ]\n",
      " [0.86567164]\n",
      " [0.40298507]\n",
      " [0.61940299]\n",
      " [0.6641791 ]\n",
      " [0.6119403 ]\n",
      " [1.        ]\n",
      " [0.45522388]\n",
      " [0.56716418]\n",
      " [0.65671642]\n",
      " [0.88059701]\n",
      " [0.45522388]\n",
      " [0.60447761]\n",
      " [0.53731343]\n",
      " [0.79850746]\n",
      " [0.44776119]\n",
      " [0.55970149]\n",
      " [0.76119403]\n",
      " [0.75373134]\n",
      " [0.67164179]\n",
      " [0.42537313]\n",
      " [0.7761194 ]\n",
      " [0.71641791]\n",
      " [0.6119403 ]\n",
      " [0.43283582]\n",
      " [0.61940299]\n",
      " [0.32835821]\n",
      " [0.46268657]\n",
      " [0.50746269]\n",
      " [0.47014925]\n",
      " [0.45522388]\n",
      " [0.48507463]\n",
      " [0.60447761]\n",
      " [0.47014925]\n",
      " [0.82089552]\n",
      " [0.88059701]\n",
      " [0.6641791 ]\n",
      " [0.38059701]\n",
      " [0.75373134]\n",
      " [0.50746269]\n",
      " [0.52238806]\n",
      " [0.53731343]\n",
      " [0.81343284]\n",
      " [0.26119403]\n",
      " [0.69402985]\n",
      " [0.51492537]\n",
      " [0.55223881]\n",
      " [0.49253731]\n",
      " [0.34328358]\n",
      " [0.51492537]\n",
      " [0.54477612]\n",
      " [0.34328358]\n",
      " [0.64179104]\n",
      " [0.74626866]\n",
      " [0.73134328]\n",
      " [0.15671642]\n",
      " [0.95522388]\n",
      " [0.53731343]\n",
      " [0.68656716]\n",
      " [0.40298507]\n",
      " [0.39552239]\n",
      " [0.37313433]\n",
      " [0.93283582]\n",
      " [0.31343284]\n",
      " [0.41791045]\n",
      " [0.38059701]\n",
      " [0.78358209]\n",
      " [0.        ]\n",
      " [0.81343284]\n",
      " [0.2761194 ]\n",
      " [0.50746269]\n",
      " [0.1641791 ]\n",
      " [0.49253731]\n",
      " [0.76119403]\n",
      " [0.51492537]\n",
      " [0.64925373]\n",
      " [0.92537313]\n",
      " [0.58955224]\n",
      " [0.82089552]\n",
      " [0.36567164]\n",
      " [0.85074627]\n",
      " [0.67910448]\n",
      " [0.6641791 ]\n",
      " [0.71641791]\n",
      " [0.44029851]\n",
      " [0.89552239]\n",
      " [0.67910448]\n",
      " [0.29850746]\n",
      " [0.76119403]\n",
      " [0.54477612]\n",
      " [0.44776119]]\n"
     ]
    }
   ],
   "source": [
    "# BEGIN SOLUTION\n",
    "from sklearn.preprocessing import MinMaxScaler\n",
    "X = df_cleaned.dropna().iloc[:,[0]]\n",
    "Y = df_cleaned.dropna().iloc[:,[1]]\n",
    "\n",
    "scaler = MinMaxScaler()\n",
    "\n",
    "X_scaled_values = scaler.fit_transform(X)\n",
    "X_scaled_values[:,:] = X_scaled_values\n",
    "\n",
    "Y_scaled_values = scaler.fit_transform(Y) \n",
    "Y_scaled_values[:,:] = Y_scaled_values\n",
    "\n",
    "# END SOLUTION\n",
    "\n",
    "\n",
    "# call the scaled vectors x and y\n",
    "x = X_scaled_values\n",
    "y = Y_scaled_values\n",
    "\n",
    "print(x,y)"
   ]
  },
  {
   "cell_type": "markdown",
   "metadata": {},
   "source": [
    "### Activity 1.3 Plot the data to see if a linear regression line is a good fit\n",
    "It is helpful to understand if the data lends to a linear regression model. In this activity, we will plot the points to see if a line fit to data is reasonable."
   ]
  },
  {
   "cell_type": "code",
   "execution_count": 46,
   "metadata": {},
   "outputs": [
    {
     "data": {
      "text/plain": [
       "<matplotlib.collections.PathCollection at 0x23318ecb630>"
      ]
     },
     "execution_count": 46,
     "metadata": {},
     "output_type": "execute_result"
    },
    {
     "data": {
      "image/png": "[encoded data removed]",
      "text/plain": [
       "<Figure size 432x288 with 1 Axes>"
      ]
     },
     "metadata": {
      "needs_background": "light"
     },
     "output_type": "display_data"
    }
   ],
   "source": [
    "import numpy as np\n",
    "import matplotlib.pyplot as plt\n",
    "\n",
    "### BEGIN SOLUTION\n",
    "plt.scatter(x,y, alpha=0.5, s=20)\n",
    "\n",
    "### END SOLUTION"
   ]
  },
  {
   "cell_type": "markdown",
   "metadata": {},
   "source": [
    "## Question 1.4\n",
    "### BEGIN ANSWER\n",
    "question: Based on what you see in the plot, do you think it is fine to use linear regression? Why?\n",
    "No, I don't we should use Linear Regression. Linear regression is a linear approach to modelling the relationship between a scalar response (or dependent variable) and one or more explanatory variables. The relationship between different variables in the graph above is not consistent. \n",
    "\n",
    "\n",
    "### END ANSWER"
   ]
  },
  {
   "cell_type": "markdown",
   "metadata": {},
   "source": [
    "# Task 2 Manual Exploration of Linear Regression Line\n",
    "In this task we will manually explore the linear regression line. This will give us a good intution about the process.\n",
    "The goal now is to fit a line \n",
    "$$\n",
    "h(\\theta) = \\theta_0 + \\theta_1*x \n",
    "$$\n",
    "to all data points (x,y), such that the error\n",
    "$$\n",
    "E(\\theta) = \\sum(h(\\theta)-y)^2 $$ is minimized. In this task we will manually change the values of theta0 and theta1 such that we obtain the smallest possible error. \n"
   ]
  },
  {
   "cell_type": "code",
   "execution_count": 47,
   "metadata": {},
   "outputs": [],
   "source": [
    "# define the function h(theta)\n",
    "def h(theta0, theta1, x):\n",
    "    \"\"\"\n",
    "    Return the model theta0 + theta1*x\n",
    "    \n",
    "    \"\"\"\n",
    "    return theta0 + theta1*x"
   ]
  },
  {
   "cell_type": "markdown",
   "metadata": {},
   "source": [
    "### Activity 2.1 - Define the square loss (L2) function\n",
    "Define the function, sqerror that computes the error based on the arguments provided. The function h(theta) is as defined above. Assume that x and y are the observed vectors. We use the average square loss or L2 loss in this case. Note that we assume global x and y vectors and do not pass them to the sqerror function and other functions that follow. This is a bad practice, but for the sake of simplicity we will do that."
   ]
  },
  {
   "cell_type": "code",
   "execution_count": 48,
   "metadata": {},
   "outputs": [
    {
     "data": {
      "text/plain": [
       "2.8891990884384047"
      ]
     },
     "execution_count": 48,
     "metadata": {},
     "output_type": "execute_result"
    }
   ],
   "source": [
    "import numpy as np\n",
    "\n",
    "## BEGIN SOLUTION\n",
    "def sqerror(theta0, theta1):\n",
    "    \"\"\"\n",
    "    Input: parameters theta0 and theta1 of the model \n",
    "    Input: x, y vectors\n",
    "    Returns: L2 square error sum\n",
    "    Assumptions: none\n",
    "    \"\"\"\n",
    "    err = np.sum(np.square(h(theta0,theta1,x) - y))\n",
    "    return err\n",
    "\n",
    "## END SOLUTION\n",
    "## testing\n",
    "sqerror(0.29,0.52)"
   ]
  },
  {
   "cell_type": "markdown",
   "metadata": {},
   "source": [
    "### Activity 2.2 - Define the L1 Absolute error function\n",
    "Define the function, abserror that computes the avarega absolute error based on the arguments provided. The function h(theta) is as defined above. Assume that x and y are the observed vectors. We use the average abssolute error in this case."
   ]
  },
  {
   "cell_type": "code",
   "execution_count": 49,
   "metadata": {},
   "outputs": [
    {
     "data": {
      "text/plain": [
       "15.484200426439234"
      ]
     },
     "execution_count": 49,
     "metadata": {},
     "output_type": "execute_result"
    }
   ],
   "source": [
    "import numpy as np\n",
    "import math\n",
    "\n",
    "## BEGIN SOLUTION\n",
    "def abserror(theta0, theta1):\n",
    "    \"\"\"\n",
    "    Input: parameters theta0 and theta1 of the model \n",
    "    Input: x, y vectors\n",
    "    Returns: L1 error sum\n",
    "    Assumptions: none\n",
    "    \"\"\"\n",
    "    err = np.sum(np.abs(h(theta0,theta1,x) - y) )\n",
    "    return err\n",
    "   \n",
    "\n",
    "## END SOLUTION\n",
    "\n",
    "## testing\n",
    "abserror(0.29,0.52)"
   ]
  },
  {
   "attachments": {
    "image.png": {
     "image/png": "[encoded data removed]"
    }
   },
   "cell_type": "markdown",
   "metadata": {},
   "source": [
    "### Activity 2.3 - Define the Pseudo Huber loss function\n",
    "Define the function, phuberror that computes the pseudo huber error based on the two arguments provided. The function h(theta) is as defined above. Assume that x and y are the observed vectors. The equation for this function is given by \n",
    "![image.png](attachment:image.png)\n",
    "The following function finds the average huber error."
   ]
  },
  {
   "cell_type": "code",
   "execution_count": 50,
   "metadata": {},
   "outputs": [
    {
     "data": {
      "text/plain": [
       "0.006077232439047499"
      ]
     },
     "execution_count": 50,
     "metadata": {},
     "output_type": "execute_result"
    }
   ],
   "source": [
    "import numpy as np\n",
    "import math\n",
    "\n",
    "## BEGIN SOLUTION\n",
    "def huberror(theta0, theta1, delta):\n",
    "    \"\"\"\n",
    "    Input: parameters theta0 and theta1 of the model \n",
    "    Input: x, y vectors\n",
    "    Returns: psuedo huber error\n",
    "    Assumptions: none\n",
    "    \"\"\"\n",
    "    alpha = np.average(np.abs(h(theta0,theta1,x) - y) )\n",
    "    pherror = np.square(delta) * (np.sqrt(1 + np.square(alpha/delta))-1)\n",
    "    return pherror\n",
    "\n",
    "## END SOLUTION\n",
    "\n",
    "## testing\n",
    "huberror(0.29,0.52,0.1)"
   ]
  },
  {
   "cell_type": "markdown",
   "metadata": {},
   "source": [
    "### Activity 2.4 Interactive Exploration.\n",
    "Let us initialize the interat widget (as in Lab5) to create sliders that allows us to change the values of theta0 and theta1 and see how things change. Complete the function f below. The function is expected to get two values theta0 and theta1 and plot both the observed points (x,y) and the regression line on the same plot. It also needs to compute the error and display and error."
   ]
  },
  {
   "cell_type": "code",
   "execution_count": 51,
   "metadata": {},
   "outputs": [
    {
     "name": "stderr",
     "output_type": "stream",
     "text": [
      "Enabling notebook extension jupyter-js-widgets/extension...\n",
      "      - Validating: ok\n"
     ]
    }
   ],
   "source": [
    "from ipywidgets import interact\n",
    "!jupyter nbextension enable --py widgetsnbextension"
   ]
  },
  {
   "cell_type": "code",
   "execution_count": 52,
   "metadata": {},
   "outputs": [
    {
     "data": {
      "application/vnd.jupyter.widget-view+json": {
       "model_id": "db92937e28854e2e953dd185c98ca97c",
       "version_major": 2,
       "version_minor": 0
      },
      "text/plain": [
       "interactive(children=(FloatSlider(value=0.0, description='theta0', max=1.0), FloatSlider(value=0.0, descriptio…"
      ]
     },
     "metadata": {},
     "output_type": "display_data"
    }
   ],
   "source": [
    "# interactive panel\n",
    "import pylab\n",
    "import numpy\n",
    "\n",
    "def f(theta0, theta1):\n",
    "    \"\"\"\n",
    "    Plot the line and points in an interactive panel\n",
    "    \"\"\"\n",
    "    # plot the line for theta0 and theta1\n",
    "    y = h(theta0, theta1, x) \n",
    "    # compose plot\n",
    "    pylab.plot(x,y) \n",
    "    \n",
    "    # compute the L2 error for theta0 and theta1 for 5 decimal places\n",
    "    sqerr = round(sqerror(theta0, theta1),6)\n",
    "    # compute the absolute or L1 error for theta0 and theta1\n",
    "    abserr = round(abserror(theta0, theta1),4)\n",
    "    # compute the phub error for theta0 and theta1\n",
    "    huberr = round(huberror(theta0, theta1,0.01),4)\n",
    "    pylab.title('L1=' + str(abserr) + '  L2=' + str(sqerr) + '  hub=' + str(huberr))\n",
    "    \n",
    "    # plot the points\n",
    "    x1 = X_scaled_values   \n",
    "    y1 = Y_scaled_values\n",
    "    pylab.scatter(x1, y1, alpha=0.5)\n",
    "    pylab.show() # show the plot  \n",
    "\n",
    "interact(f, theta1=(0,1,0.1), theta0=(0,1,0.1));\n"
   ]
  },
  {
   "cell_type": "markdown",
   "metadata": {},
   "source": [
    "### Activity 2.5 Record the best values for each error function\n",
    "Write the \"best\" values you found for theta0 (y-intercept) and theta1 (slope) and the error. \n",
    "This error is the minimum you have observed based on the manual exploration using the widget \n",
    "above."
   ]
  },
  {
   "cell_type": "code",
   "execution_count": 53,
   "metadata": {},
   "outputs": [],
   "source": [
    "\n",
    "\n",
    "# BEST VALUES FOR AVE SQUARE ERROR\n",
    "theta0 = 0.60\n",
    "theta1 =0.00\n",
    "error = 0.0015\n",
    "# BEST VALUES FOR AVE ABS ERROR\n",
    "theta0 = 0.60\n",
    "theta1 = 0.10\n",
    "error = 0.0015\n",
    "\n",
    "# BEST VALUES FOR AVE HUBER ERROR\n",
    "theta0 =0.60\n",
    "theta1 =0.10\n",
    "error = 0.0015"
   ]
  },
  {
   "cell_type": "markdown",
   "metadata": {},
   "source": [
    "# Task 3 - Gradient Descent\n",
    "In this task we need to use the Gradient descent methods to find a \"better\" values for theta0 and theta1 that minimizes the error. Gradient descent is an iterative algorithm. It computes values of theta0 and theta1 in the direction of reaching the minimum point in the graph. The iterative formulas for theta0 and theta1 are given by:\n",
    "$$\n",
    "\\theta_0 = \\theta_0 - \\alpha*(\\sum(\\theta_1*x_j + \\theta_0)-y_j)\n",
    "$$\n",
    "$$\n",
    "\\theta_1 = \\theta_1 - \\alpha*(\\sum(\\theta_1*x_j + \\theta_0 - y_j)*x_j\n",
    "$$\n",
    "\n",
    "The alpha is called the \"learning rate\". It is important to pick a good value for alpha so that convergence is not too slow (small alpha) or at the risk of over shooting the minimum point (large alpha). You may have to experiemnt with few alphas to find something that works."
   ]
  },
  {
   "cell_type": "markdown",
   "metadata": {},
   "source": [
    "### Activity 3.1 Compute using Gradient Descent algorithm (L2 loss)"
   ]
  },
  {
   "cell_type": "code",
   "execution_count": 56,
   "metadata": {},
   "outputs": [
    {
     "name": "stdout",
     "output_type": "stream",
     "text": [
      "3\n"
     ]
    }
   ],
   "source": [
    "# given the observed data (obsX,obsY), learning rate (alpha), and desired error threshold, \n",
    "# the function returns theta0 and theta1\n",
    "# that reach the error threshold.\n",
    "# The convergence is reached when the newError - oldError is less than the threshold.\n",
    "\n",
    "# BEGIN SOLUTION  \n",
    "def gd2(obsX, obsY, alpha, threshold):\n",
    "    \"\"\"\n",
    "    Input : observed vectors X, Y, alpha and threshold\n",
    "    Return theta0, theta1 from Gradient Descent L2 loss algorithm\n",
    "    Return: Iterations and L2 Error\n",
    "    \"\"\"\n",
    "    iterations = 1\n",
    "    prevtheta0 = 0\n",
    "    prevtheta1 = 0\n",
    "    \n",
    "    theta0 = prevtheta0 - alpha*(np.sum(prevtheta1*obsX+prevtheta0)-obsY)\n",
    "    theta1 = prevtheta1 - alpha*(np.sum(prevtheta1*obsX+prevtheta0-obsY)*obsX)\n",
    "    \n",
    "    oldError = sqerror(theta0,theta1)\n",
    "    \n",
    "    prevtheta0 = theta0\n",
    "    prevtheta1 = theta1\n",
    "    iterations = iterations + 1\n",
    "    \n",
    "    theta0 = prevtheta0 - alpha*(np.sum(prevtheta1*obsX+prevtheta0)-obsY)\n",
    "    theta1 = prevtheta1 - alpha*(np.sum(prevtheta1*obsX+prevtheta0-obsY)*obsX)\n",
    "    \n",
    "    newError =sqerror(theta0, theta1)\n",
    "    while(newError-oldError > threshold):\n",
    "        oldError = newError\n",
    "        prevtheta0 = theta0\n",
    "        prevtheta1 = theta1\n",
    "        iterations = iterations + 1\n",
    "    return [theta0,theta1,newError,iterations]\n",
    "        \n",
    "    \n",
    "    \n",
    "# END SOLUTION\n",
    "\n",
    "[theta0,theta1,newError,iterations] = gd2(x,y,0.01,0.0001)\n",
    "print(iterations)"
   ]
  },
  {
   "cell_type": "code",
   "execution_count": 57,
   "metadata": {},
   "outputs": [
    {
     "data": {
      "text/plain": [
       "(array([[-0.28178107],\n",
       "        [-0.28222883],\n",
       "        [-0.29073629],\n",
       "        [-0.2852139 ],\n",
       "        [-0.28506465],\n",
       "        [-0.28969152],\n",
       "        [-0.28894525],\n",
       "        [-0.2810348 ],\n",
       "        [-0.28431838],\n",
       "        [-0.29237808],\n",
       "        [-0.28267659],\n",
       "        [-0.28551241],\n",
       "        [-0.28163181],\n",
       "        [-0.2829751 ],\n",
       "        [-0.29028853],\n",
       "        [-0.2890945 ],\n",
       "        [-0.2849154 ],\n",
       "        [-0.28342286],\n",
       "        [-0.28133331],\n",
       "        [-0.28655719],\n",
       "        [-0.28237808],\n",
       "        [-0.28819898],\n",
       "        [-0.2868557 ],\n",
       "        [-0.28551241],\n",
       "        [-0.29342286],\n",
       "        [-0.28864674],\n",
       "        [-0.29401987],\n",
       "        [-0.29133331],\n",
       "        [-0.29058704],\n",
       "        [-0.27790047],\n",
       "        [-0.28760196],\n",
       "        [-0.28894525],\n",
       "        [-0.28760196],\n",
       "        [-0.28028853],\n",
       "        [-0.28954226],\n",
       "        [-0.2852139 ],\n",
       "        [-0.28431838],\n",
       "        [-0.28536316],\n",
       "        [-0.27760196],\n",
       "        [-0.28849749],\n",
       "        [-0.28625868],\n",
       "        [-0.28446764],\n",
       "        [-0.27999002],\n",
       "        [-0.28849749],\n",
       "        [-0.28551241],\n",
       "        [-0.2868557 ],\n",
       "        [-0.28163181],\n",
       "        [-0.28864674],\n",
       "        [-0.28640793],\n",
       "        [-0.28237808],\n",
       "        [-0.28252734],\n",
       "        [-0.28416913],\n",
       "        [-0.2890945 ],\n",
       "        [-0.28207958],\n",
       "        [-0.28327361],\n",
       "        [-0.28536316],\n",
       "        [-0.28894525],\n",
       "        [-0.2852139 ],\n",
       "        [-0.2910348 ],\n",
       "        [-0.28834823],\n",
       "        [-0.28745271],\n",
       "        [-0.28819898],\n",
       "        [-0.28849749],\n",
       "        [-0.28790047],\n",
       "        [-0.28551241],\n",
       "        [-0.28819898],\n",
       "        [-0.28118405],\n",
       "        [-0.27999002],\n",
       "        [-0.28431838],\n",
       "        [-0.28999002],\n",
       "        [-0.28252734],\n",
       "        [-0.28745271],\n",
       "        [-0.2871542 ],\n",
       "        [-0.2868557 ],\n",
       "        [-0.28133331],\n",
       "        [-0.29237808],\n",
       "        [-0.28372137],\n",
       "        [-0.28730346],\n",
       "        [-0.28655719],\n",
       "        [-0.28775122],\n",
       "        [-0.29073629],\n",
       "        [-0.28730346],\n",
       "        [-0.28670644],\n",
       "        [-0.29073629],\n",
       "        [-0.28476614],\n",
       "        [-0.28267659],\n",
       "        [-0.2829751 ],\n",
       "        [-0.29446764],\n",
       "        [-0.27849749],\n",
       "        [-0.2868557 ],\n",
       "        [-0.28387062],\n",
       "        [-0.28954226],\n",
       "        [-0.28969152],\n",
       "        [-0.29013928],\n",
       "        [-0.27894525],\n",
       "        [-0.29133331],\n",
       "        [-0.28924375],\n",
       "        [-0.28999002],\n",
       "        [-0.28193032],\n",
       "        [-0.29760196],\n",
       "        [-0.28133331],\n",
       "        [-0.29207958],\n",
       "        [-0.28745271],\n",
       "        [-0.29431838],\n",
       "        [-0.28775122],\n",
       "        [-0.28237808],\n",
       "        [-0.28730346],\n",
       "        [-0.28461689],\n",
       "        [-0.2790945 ],\n",
       "        [-0.28581092],\n",
       "        [-0.28118405],\n",
       "        [-0.29028853],\n",
       "        [-0.28058704],\n",
       "        [-0.28401987],\n",
       "        [-0.28431838],\n",
       "        [-0.28327361],\n",
       "        [-0.28879599],\n",
       "        [-0.27969152],\n",
       "        [-0.28401987],\n",
       "        [-0.29163181],\n",
       "        [-0.28237808],\n",
       "        [-0.28670644],\n",
       "        [-0.28864674]]), array([[0.42140463],\n",
       "        [0.6201804 ],\n",
       "        [0.77920101],\n",
       "        [0.7235438 ],\n",
       "        [0.87461338],\n",
       "        [0.53271906],\n",
       "        [0.35779638],\n",
       "        [0.89846647],\n",
       "        [0.65198452],\n",
       "        [0.07155928],\n",
       "        [0.59632731],\n",
       "        [0.516817  ],\n",
       "        [0.46911081],\n",
       "        [0.9302706 ],\n",
       "        [0.38960051],\n",
       "        [0.        ],\n",
       "        [0.7235438 ],\n",
       "        [0.54067009],\n",
       "        [0.61222937],\n",
       "        [0.54862112],\n",
       "        [1.1131443 ],\n",
       "        [0.66788658],\n",
       "        [0.34984535],\n",
       "        [0.68378864],\n",
       "        [0.6201804 ],\n",
       "        [0.54067009],\n",
       "        [0.04770618],\n",
       "        [0.55657215],\n",
       "        [0.26238401],\n",
       "        [0.81895617],\n",
       "        [0.65993555],\n",
       "        [0.54067009],\n",
       "        [0.17492268],\n",
       "        [0.9302706 ],\n",
       "        [0.15902061],\n",
       "        [0.38960051],\n",
       "        [0.46115978],\n",
       "        [0.69173968],\n",
       "        [1.1131443 ],\n",
       "        [0.78715204],\n",
       "        [0.62813143],\n",
       "        [1.00182987],\n",
       "        [0.81895617],\n",
       "        [0.27033505],\n",
       "        [0.46115978],\n",
       "        [0.7235438 ],\n",
       "        [0.58042524],\n",
       "        [0.73149483],\n",
       "        [0.42935566],\n",
       "        [0.44525772],\n",
       "        [0.61222937],\n",
       "        [0.58837628],\n",
       "        [0.516817  ],\n",
       "        [0.90641751],\n",
       "        [0.66788658],\n",
       "        [0.60427834],\n",
       "        [0.11131443],\n",
       "        [0.56452318],\n",
       "        [0.22262886],\n",
       "        [0.70764174],\n",
       "        [0.28623711],\n",
       "        [1.04953606],\n",
       "        [0.40550257],\n",
       "        [0.59632731],\n",
       "        [0.89051544],\n",
       "        [0.38164948],\n",
       "        [0.7235438 ],\n",
       "        [0.74739689],\n",
       "        [0.67583761],\n",
       "        [0.34984535],\n",
       "        [0.80305411],\n",
       "        [0.6201804 ],\n",
       "        [0.87461338],\n",
       "        [0.34984535],\n",
       "        [1.06543812],\n",
       "        [0.19877577],\n",
       "        [0.76329895],\n",
       "        [0.49296391],\n",
       "        [0.77124998],\n",
       "        [0.19877577],\n",
       "        [0.52476803],\n",
       "        [0.58837628],\n",
       "        [0.30213917],\n",
       "        [0.50091494],\n",
       "        [0.58837628],\n",
       "        [0.54067009],\n",
       "        [0.8269072 ],\n",
       "        [0.28623711],\n",
       "        [0.95412369],\n",
       "        [0.32599226],\n",
       "        [0.65198452],\n",
       "        [0.78715204],\n",
       "        [0.73149483],\n",
       "        [0.3100902 ],\n",
       "        [0.87461338],\n",
       "        [0.27828608],\n",
       "        [0.33394329],\n",
       "        [0.65198452],\n",
       "        [1.08134018],\n",
       "        [0.03180412],\n",
       "        [1.05748709],\n",
       "        [0.49296391],\n",
       "        [0.38164948],\n",
       "        [0.54067009],\n",
       "        [0.45320875],\n",
       "        [0.77920101],\n",
       "        [0.21467783],\n",
       "        [0.42140463],\n",
       "        [0.91436854],\n",
       "        [0.97002575],\n",
       "        [0.53271906],\n",
       "        [0.04770618],\n",
       "        [1.04158503],\n",
       "        [0.53271906],\n",
       "        [0.8269072 ],\n",
       "        [0.70764174],\n",
       "        [0.39755154],\n",
       "        [0.92231957],\n",
       "        [0.57247421],\n",
       "        [0.24648195],\n",
       "        [0.88256441],\n",
       "        [1.02568297],\n",
       "        [0.66788658]]))"
      ]
     },
     "execution_count": 57,
     "metadata": {},
     "output_type": "execute_result"
    }
   ],
   "source": [
    "# observe theta0 and theta1\n",
    "theta0, theta1"
   ]
  },
  {
   "cell_type": "markdown",
   "metadata": {},
   "source": [
    "### Activity 3.2 Compute Gradient Descent (Huber)\n",
    "First Compute a formula for huber gradient descent using derivative methods discussed in class. Similar to L2 descent, use the new formulas (obtained from huber derivatives) to compute values of theta1, theta1, error"
   ]
  },
  {
   "cell_type": "code",
   "execution_count": 61,
   "metadata": {},
   "outputs": [
    {
     "name": "stdout",
     "output_type": "stream",
     "text": [
      "3\n"
     ]
    }
   ],
   "source": [
    "# given the observed data (obsX,obsY), learning rate (alpha), and desired error, \n",
    "# the function returns theta0, theta1, error and iterations\n",
    "# that reaches a minimum error threshold\n",
    "\n",
    "## BEGIN SOLUTION\n",
    "\n",
    "def gdh(obsX, obsY, alpha, threshold, delta):\n",
    "    \"\"\"\n",
    "    Input : observed vectors X, Y, alpha and threshold\n",
    "    Return theta0, theta1 from Gradient Descent huber loss algorithm\n",
    "    Return: Iterations and huber Error\n",
    "    \"\"\"\n",
    "    iterations = 1\n",
    "    prevtheta0 = 0\n",
    "    prevtheta1 = 0\n",
    "    \n",
    "    theta0 = prevtheta0 - alpha*(np.sum(prevtheta1*obsX+prevtheta0)-obsY)\n",
    "    theta1 = prevtheta1 - alpha*(np.sum(prevtheta1*obsX+prevtheta0-obsY)*obsX)\n",
    "    \n",
    "    oldError = huberror(theta0,theta1,delta)\n",
    "    \n",
    "    prevtheta0 = theta0\n",
    "    prevtheta1 = theta1\n",
    "    iterations = iterations + 1\n",
    "    \n",
    "    theta0 = prevtheta0 - alpha*(np.sum(prevtheta1*obsX+prevtheta0)-obsY)\n",
    "    theta1 = prevtheta1 - alpha*(np.sum(prevtheta1*obsX+prevtheta0-obsY)*obsX)\n",
    "    \n",
    "    newError =huberror(theta0, theta1,delta)\n",
    "    while(newError-oldError > threshold):\n",
    "        oldError = newError\n",
    "        prevtheta0 = theta0\n",
    "        prevtheta1 = theta1\n",
    "        iterations = iterations + 1\n",
    "    return [theta0,theta1,newError,iterations]\n",
    "    \n",
    " \n",
    "## END SOLUTION\n",
    "# testing    \n",
    "[theta0,theta1,newError,iterations] = gdh(x,y,0.01,0.000001,0.01)\n",
    "print(iterations)"
   ]
  },
  {
   "cell_type": "markdown",
   "metadata": {},
   "source": [
    "### Activity 3.2\n",
    "1. Write the values of theta0, theta1, alpha, error that provided the minimum value through gradient descent\n",
    "2. Experiment the new values of theta0, theta1 to see if the interactive widget shows similar things.\n",
    "\n",
    "##### BEGIN ANSWER\n",
    "1. theta0 = [-0.28237808],[-0.28670644],[-0.28864674]; theta1 = [0.88256441],[1.02568297],[0.66788658]\n",
    "2. The new values all show different things, there's no similarity \n",
    "\n",
    "##### END ANSWER"
   ]
  },
  {
   "cell_type": "markdown",
   "metadata": {},
   "source": [
    "### Activity 3.3 Compare with Library Estimators\n",
    "Now use the sklearn LinearRegression module to automate this process. What coefficients do you get? Are they close to what you received from gradient descent? Find the error from sklearn package. Is that error smaller or bigger than the squared error you received?"
   ]
  },
  {
   "cell_type": "code",
   "execution_count": 62,
   "metadata": {},
   "outputs": [
    {
     "name": "stdout",
     "output_type": "stream",
     "text": [
      "[0.29620134]\n",
      "[[0.5238794]]\n"
     ]
    }
   ],
   "source": [
    "from sklearn.linear_model import LinearRegression\n",
    "lm = LinearRegression()\n",
    "result = lm.fit(x,y)\n",
    "print(result.intercept_)\n",
    "print(result.coef_)"
   ]
  },
  {
   "cell_type": "code",
   "execution_count": 64,
   "metadata": {},
   "outputs": [
    {
     "data": {
      "text/plain": [
       "2.8807167362296515"
      ]
     },
     "execution_count": 64,
     "metadata": {},
     "output_type": "execute_result"
    }
   ],
   "source": [
    "theta0 = result.intercept_\n",
    "theta1 = result.coef_\n",
    "sqerror(theta0,theta1)\n",
    "#Answer: Coefficients are [0.29620134],[[0.5238794]]. It's not necessarily close to the gradient descent, the error is bigger than squared error. "
   ]
  },
  {
   "cell_type": "markdown",
   "metadata": {},
   "source": [
    "## Task 4- Predict Your Final Exam Score\n",
    "The regression line was obtained using grades from CS 205 course. We can consider them to be training data. Now we trained a model (with theta0 and theta1) so we can predict the grade for your own course based on your midterm grade.\n",
    "We will do few things before we can accomplish this task."
   ]
  },
  {
   "cell_type": "markdown",
   "metadata": {},
   "source": [
    "### Activity 4.1 Read the midterm grades\n",
    "The grade file for CS439 midterm is given in data/CS439_grades.csv. Read this data file to a new "
   ]
  },
  {
   "cell_type": "code",
   "execution_count": 65,
   "metadata": {},
   "outputs": [
    {
     "name": "stdout",
     "output_type": "stream",
     "text": [
      "<class 'pandas.core.frame.DataFrame'>\n",
      "RangeIndex: 97 entries, 0 to 96\n",
      "Data columns (total 1 columns):\n",
      "midterm    97 non-null float64\n",
      "dtypes: float64(1)\n",
      "memory usage: 856.0 bytes\n",
      "<class 'pandas.core.frame.DataFrame'>\n",
      "Int64Index: 96 entries, 0 to 96\n",
      "Data columns (total 1 columns):\n",
      "midterm    96 non-null float64\n",
      "dtypes: float64(1)\n",
      "memory usage: 1.5 KB\n"
     ]
    }
   ],
   "source": [
    "import pandas as pd\n",
    "df_439 = pd.read_csv(\"data/CS439_grades_03_15_19.csv\")\n",
    "df_439.info()\n",
    "mid = df_439[df_439['midterm']<80]\n",
    "mid.info()"
   ]
  },
  {
   "cell_type": "markdown",
   "metadata": {},
   "source": [
    "### Activity 4.2 Predict your Grade\n",
    "Scale the values in the midterm grades of CS 439 and compute the estimated final exam grade. Note that this is probably not a very good estimator since we are trying to predict final exam just by using a midterm score. However, using more features such as labs and quiz scores can help improve the accuracy. We will do that in a future lab. The output is shown as values scaled back to percentages (100% max)"
   ]
  },
  {
   "cell_type": "code",
   "execution_count": 71,
   "metadata": {},
   "outputs": [
    {
     "name": "stdout",
     "output_type": "stream",
     "text": [
      "61.5 [[61.9]]\n",
      "42.3 [[51.8]]\n",
      "52.6 [[57.2]]\n",
      "12.8 [[36.3]]\n",
      "94.9 [[79.3]]\n",
      "56.4 [[59.2]]\n",
      "39.7 [[50.4]]\n",
      "46.2 [[53.8]]\n",
      "43.6 [[52.5]]\n",
      "21.8 [[41.]]\n",
      "48.7 [[55.1]]\n",
      "43.6 [[52.5]]\n",
      "75.6 [[69.2]]\n",
      "65.4 [[63.9]]\n",
      "52.6 [[57.2]]\n",
      "43.6 [[52.5]]\n",
      "61.5 [[61.9]]\n",
      "42.3 [[51.8]]\n",
      "60.3 [[61.2]]\n",
      "100.0 [[82.]]\n",
      "70.5 [[66.6]]\n",
      "61.5 [[61.9]]\n",
      "0.0 [[29.6]]\n",
      "53.8 [[57.8]]\n",
      "34.6 [[47.8]]\n",
      "83.3 [[73.3]]\n",
      "67.9 [[65.2]]\n",
      "91.0 [[77.3]]\n",
      "29.5 [[45.1]]\n",
      "73.1 [[67.9]]\n",
      "67.9 [[65.2]]\n",
      "2.6 [[31.]]\n",
      "61.5 [[61.9]]\n",
      "69.2 [[65.9]]\n",
      "48.7 [[55.1]]\n",
      "98.7 [[81.3]]\n",
      "34.6 [[47.8]]\n",
      "60.3 [[61.2]]\n",
      "44.9 [[53.1]]\n",
      "50.0 [[55.8]]\n",
      "69.2 [[65.9]]\n",
      "60.3 [[61.2]]\n",
      "83.3 [[73.3]]\n",
      "26.9 [[43.7]]\n",
      "61.5 [[61.9]]\n",
      "20.5 [[40.4]]\n",
      "19.2 [[39.7]]\n",
      "6.4 [[33.]]\n",
      "80.8 [[71.9]]\n",
      "44.9 [[53.1]]\n",
      "26.9 [[43.7]]\n",
      "14.1 [[37.]]\n",
      "67.9 [[65.2]]\n",
      "51.3 [[56.5]]\n",
      "24.4 [[42.4]]\n",
      "78.2 [[70.6]]\n",
      "23.1 [[41.7]]\n",
      "60.3 [[61.2]]\n",
      "71.8 [[67.2]]\n",
      "85.9 [[74.6]]\n",
      "50.0 [[55.8]]\n",
      "37.2 [[49.1]]\n",
      "73.1 [[67.9]]\n",
      "62.8 [[62.5]]\n",
      "59.0 [[60.5]]\n",
      "70.5 [[66.6]]\n",
      "5.1 [[32.3]]\n",
      "34.6 [[47.8]]\n",
      "19.2 [[39.7]]\n",
      "50.0 [[55.8]]\n",
      "67.9 [[65.2]]\n",
      "7.7 [[33.6]]\n",
      "67.9 [[65.2]]\n",
      "67.9 [[65.2]]\n",
      "53.8 [[57.8]]\n",
      "39.7 [[50.4]]\n",
      "43.6 [[52.5]]\n",
      "98.7 [[81.3]]\n",
      "79.5 [[71.3]]\n",
      "88.5 [[76.]]\n",
      "55.1 [[58.5]]\n",
      "65.4 [[63.9]]\n",
      "57.7 [[59.8]]\n",
      "46.2 [[53.8]]\n",
      "51.9 [[56.8]]\n",
      "70.5 [[66.6]]\n",
      "51.3 [[56.5]]\n",
      "43.6 [[52.5]]\n",
      "6.4 [[33.]]\n",
      "30.8 [[45.7]]\n",
      "96.2 [[80.]]\n",
      "69.2 [[65.9]]\n",
      "64.1 [[63.2]]\n",
      "38.5 [[49.8]]\n",
      "42.3 [[51.8]]\n",
      "83.3 [[73.3]]\n"
     ]
    }
   ],
   "source": [
    "from sklearn import preprocessing\n",
    "import numpy as np \n",
    "\n",
    "## BEGIN SOLUTION\n",
    "min_max = preprocessing.MinMaxScaler(feature_range=(0,100))\n",
    "scaler =  preprocessing.MinMaxScaler(feature_range=(29.62013352,82))\n",
    "midterm_score = min_max.fit_transform(mid[['midterm']])\n",
    "final_score = scaler.fit_transform(midterm_score)\n",
    "midterm_score= np.around(midterm_score,decimals=1)\n",
    "midterm_score=midterm_score.tolist()\n",
    "midterm_score=[i[0] for i in midterm_score]\n",
    "final_score = np.around(final_score,decimals=1)\n",
    "for i in range(0,len(final_score)):\n",
    "    print(midterm_score[i], final_score[[i]])\n",
    "    \n",
    "## END SOLUTION"
   ]
  },
  {
   "cell_type": "markdown",
   "metadata": {},
   "source": []
  },
  {
   "cell_type": "markdown",
   "metadata": {},
   "source": []
  },
  {
   "cell_type": "markdown",
   "metadata": {},
   "source": [
    "Lab Developed by A.D. Gunawardena @ 2019 for CS 439"
   ]
  }
 ],
 "metadata": {
  "kernelspec": {
   "display_name": "Python 3",
   "language": "python",
   "name": "python3"
  },
  "language_info": {
   "codemirror_mode": {
    "name": "ipython",
    "version": 3
   },
   "file_extension": ".py",
   "mimetype": "text/x-python",
   "name": "python",
   "nbconvert_exporter": "python",
   "pygments_lexer": "ipython3",
   "version": "3.7.3"
  }
 },
 "nbformat": 4,
 "nbformat_minor": 2
}
